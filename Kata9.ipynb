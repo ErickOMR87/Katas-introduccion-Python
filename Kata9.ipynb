{
 "cells": [
  {
   "cell_type": "code",
   "execution_count": 15,
   "metadata": {},
   "outputs": [],
   "source": [
    "# Función para leer 3 tanques de combustible y muestre el promedio\n",
    "def tanquesPromedio (t1, t2, t3):\n",
    "    promedio = (t1+t2+t3)/3\n",
    "    print(f\"Los tanques de combustible presentan los siguientes niveles :\\n Tanque 1: {t1} Lts,\\n Tanque 2 Lts:  {t2} Lts,\\n Tanque 3: {t3} Lts,\\n Su promedio es {promedio} Lts\")"
   ]
  },
  {
   "cell_type": "code",
   "execution_count": 16,
   "metadata": {},
   "outputs": [
    {
     "name": "stdout",
     "output_type": "stream",
     "text": [
      "Los tanques de combustible presentan los siguientes niveles :\n",
      " Tanque 1: 6 Lts,\n",
      " Tanque 2 Lts:  8 Lts,\n",
      " Tanque 3: 9 Lts,\n",
      " Su promedio es 7.666666666666667 Lts\n"
     ]
    }
   ],
   "source": [
    "tanquesPromedio(6,8,9)"
   ]
  },
  {
   "cell_type": "code",
   "execution_count": 17,
   "metadata": {},
   "outputs": [
    {
     "data": {
      "text/plain": [
       "6.666666666666667"
      ]
     },
     "execution_count": 17,
     "metadata": {},
     "output_type": "execute_result"
    }
   ],
   "source": [
    "def promedios (*args):\n",
    "    return sum(args)/ len(args) \n",
    "promedios(5,9,6)    "
   ]
  },
  {
   "cell_type": "code",
   "execution_count": 18,
   "metadata": {},
   "outputs": [
    {
     "name": "stdout",
     "output_type": "stream",
     "text": [
      "Los tanques de combustible presentan los siguientes niveles :\n",
      " Tanque 1: 5 Lts,\n",
      " Tanque 2 Lts:  8 Lts,\n",
      " Tanque 3: 9 Lts,\n",
      " Su promedio es 7.333333333333333 Lts\n"
     ]
    }
   ],
   "source": [
    "# Función para leer 3 tanques de combustible y muestre el promedio\n",
    "def tanquesPromedioActualizado (t1, t2, t3):\n",
    "    print(f\"Los tanques de combustible presentan los siguientes niveles :\\n Tanque 1: {t1} Lts,\\n Tanque 2 Lts:  {t2} Lts,\\n Tanque 3: {t3} Lts,\\n Su promedio es {promedios(t1,t2,t3)} Lts\")\n",
    "tanquesPromedioActualizado(5,8,9)"
   ]
  },
  {
   "cell_type": "markdown",
   "metadata": {},
   "source": []
  }
 ],
 "metadata": {
  "interpreter": {
   "hash": "347252dfcdeddcf897f98b7aaa5f0a716a6441f210ee2e6db88d6863860a5910"
  },
  "kernelspec": {
   "display_name": "Python 3.10.2 64-bit",
   "language": "python",
   "name": "python3"
  },
  "language_info": {
   "codemirror_mode": {
    "name": "ipython",
    "version": 3
   },
   "file_extension": ".py",
   "mimetype": "text/x-python",
   "name": "python",
   "nbconvert_exporter": "python",
   "pygments_lexer": "ipython3",
   "version": "3.10.2"
  },
  "orig_nbformat": 4
 },
 "nbformat": 4,
 "nbformat_minor": 2
}
