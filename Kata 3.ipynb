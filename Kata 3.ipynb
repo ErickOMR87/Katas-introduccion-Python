{
 "cells": [
  {
   "cell_type": "code",
   "execution_count": 10,
   "metadata": {},
   "outputs": [
    {
     "name": "stdout",
     "output_type": "stream",
     "text": [
      "No hay amenaza de impacto\n"
     ]
    }
   ],
   "source": [
    "# Añadir el código necesario para crear una variable que guarde la velocidad del asteroide.\n",
    "Va = input(\"Velocidad del asteroide \")\n",
    "# Escribe una expresión de prueba para calcular si necesita una advertencia.\n",
    "if float(Va) > 25 :\n",
    "# Agregue las instrucciones que se ejecutarán si la expresión de prueba es true o false.\n",
    "    print(\"advertencia de impacto\")\n",
    "else:\n",
    "    print(\"No hay amenaza de impacto\")\n"
   ]
  },
  {
   "cell_type": "code",
   "execution_count": 11,
   "metadata": {},
   "outputs": [
    {
     "name": "stdout",
     "output_type": "stream",
     "text": [
      "No hay rayo de luz en la atmosfera\n"
     ]
    }
   ],
   "source": [
    "# Agrega el código para crear una variable para un asteroide que viaja a 19 km/s\n",
    "Vas = 19\n",
    "# Escribe varias expresiones de prueba para determinar si puedes ver el rayo de luz desde la tierra\n",
    "# Agrega las instrucciones que se ejecutarán si las expresiones de prueba son True o False\n",
    "if Vas > 20 :\n",
    "    print(\"Rayo de luz en atmosfera\")\n",
    "elif Vas == 20 :\n",
    "    print(\"Rayo de luz en atmosfera\")\n",
    "else:\n",
    "    print(\"No hay rayo de luz en la atmosfera\")\n"
   ]
  },
  {
   "cell_type": "code",
   "execution_count": 23,
   "metadata": {},
   "outputs": [
    {
     "name": "stdout",
     "output_type": "stream",
     "text": [
      "Extremo pelígro por impacto\n",
      "Hay rayo de luz en atmosfera\n"
     ]
    }
   ],
   "source": [
    "# Agrega el código para crear nuevas variables para la velocidad y el tamaño del asteroide\n",
    "Vel = input(\"Velocidad del asteroide \")\n",
    "Size = input(\"Tamano del asteroide \")\n",
    "if float(Size) > 25 and float(Size) < 1000 or float(Vel) > 25:\n",
    "    print (\"Extremo pelígro por impacto\")\n",
    "else:\n",
    "    print(\"Fuera de pelígro\")  \n",
    "if float(Vel) >= 20 :\n",
    "    print(\"Hay rayo de luz en atmosfera\")\n",
    "   \n",
    "# Para probar el código, prueba con varias velocidades y tamaños\n",
    "\n",
    "# Escribe varias expresiones de prueba o combinaciones de expresiones de prueba para determinar qué mensaje se debe enviar a Tierra."
   ]
  }
 ],
 "metadata": {
  "interpreter": {
   "hash": "347252dfcdeddcf897f98b7aaa5f0a716a6441f210ee2e6db88d6863860a5910"
  },
  "kernelspec": {
   "display_name": "Python 3.10.2 64-bit",
   "language": "python",
   "name": "python3"
  },
  "language_info": {
   "codemirror_mode": {
    "name": "ipython",
    "version": 3
   },
   "file_extension": ".py",
   "mimetype": "text/x-python",
   "name": "python",
   "nbconvert_exporter": "python",
   "pygments_lexer": "ipython3",
   "version": "3.10.2"
  },
  "orig_nbformat": 4
 },
 "nbformat": 4,
 "nbformat_minor": 2
}
