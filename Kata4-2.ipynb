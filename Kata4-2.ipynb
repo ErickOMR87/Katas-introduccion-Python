{
 "cells": [
  {
   "cell_type": "code",
   "execution_count": 34,
   "metadata": {},
   "outputs": [],
   "source": [
    "# Datos con los que vas a trabajar\n",
    "name = \"Marte\"\n",
    "gravity = 0.00143 # in km/s\n",
    "planet = \"Ganímedes\""
   ]
  },
  {
   "cell_type": "code",
   "execution_count": 35,
   "metadata": {},
   "outputs": [
    {
     "data": {
      "text/plain": [
       "\"Marte And Ganímedes'S Gravity\""
      ]
     },
     "execution_count": 35,
     "metadata": {},
     "output_type": "execute_result"
    }
   ],
   "source": [
    "# Creamos el título\n",
    "titulo =\"\"\"{0} and {1}'s gravity\"\"\".format(name,planet)\n",
    "f'{titulo.title()}'\n"
   ]
  },
  {
   "cell_type": "code",
   "execution_count": 36,
   "metadata": {},
   "outputs": [
    {
     "name": "stdout",
     "output_type": "stream",
     "text": [
      "Nombre del planeta: Ganímedes \n",
      "Gravedad en Marte: 1.4300000000000002 en m/s2\n"
     ]
    }
   ],
   "source": [
    "# Creamos la plantilla\n",
    "datos = f\"\"\"Nombre del planeta: {planet} \n",
    "Gravedad en {name}: {gravity * 1000} en m/s2\"\"\"\n",
    "print(datos)"
   ]
  },
  {
   "cell_type": "code",
   "execution_count": 38,
   "metadata": {},
   "outputs": [
    {
     "name": "stdout",
     "output_type": "stream",
     "text": [
      "Marte And Ganímedes'S Gravity\n",
      "---------------------------------\n",
      "Nombre del planeta: Ganímedes \n",
      "Gravedad en Marte: 1.4300000000000002 en m/s2\n"
     ]
    }
   ],
   "source": [
    "Plantilla = f\"\"\"{titulo.title()}\n",
    "---------------------------------\n",
    "{datos}\"\"\"\n",
    "print(Plantilla)"
   ]
  }
 ],
 "metadata": {
  "interpreter": {
   "hash": "347252dfcdeddcf897f98b7aaa5f0a716a6441f210ee2e6db88d6863860a5910"
  },
  "kernelspec": {
   "display_name": "Python 3.10.2 64-bit",
   "language": "python",
   "name": "python3"
  },
  "language_info": {
   "codemirror_mode": {
    "name": "ipython",
    "version": 3
   },
   "file_extension": ".py",
   "mimetype": "text/x-python",
   "name": "python",
   "nbconvert_exporter": "python",
   "pygments_lexer": "ipython3",
   "version": "3.10.2"
  },
  "orig_nbformat": 4
 },
 "nbformat": 4,
 "nbformat_minor": 2
}
