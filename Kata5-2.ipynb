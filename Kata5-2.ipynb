{
 "cells": [
  {
   "cell_type": "code",
   "execution_count": 13,
   "metadata": {},
   "outputs": [
    {
     "name": "stdout",
     "output_type": "stream",
     "text": [
      "57900000\n",
      "1433500000\n"
     ]
    }
   ],
   "source": [
    "# Almacenar las entradas del usuario\n",
    "dt= input(\"Cual es la distancia del primer planeta al sol?\")\n",
    "dmer = input(\"Cual es la distancia del segundo planeta al sol?\")\n",
    "print(dt)\n",
    "print(dmer)"
   ]
  },
  {
   "cell_type": "code",
   "execution_count": 14,
   "metadata": {},
   "outputs": [
    {
     "name": "stdout",
     "output_type": "stream",
     "text": [
      "57900000\n",
      "1433500000\n"
     ]
    }
   ],
   "source": [
    "Rdt = round(float(dt))\n",
    "Rdmer = round(float(dmer))\n",
    "print(int(Rdt))\n",
    "print(int(Rdmer))"
   ]
  },
  {
   "cell_type": "code",
   "execution_count": 17,
   "metadata": {},
   "outputs": [
    {
     "name": "stdout",
     "output_type": "stream",
     "text": [
      "1375600000\n",
      "839116000.0\n"
     ]
    }
   ],
   "source": [
    "# Realizar el cálculo y determinar el valor absoluto\n",
    "\n",
    "dis = abs(Rdt - Rdmer)\n",
    "print(dis) #Km\n",
    "\n",
    "# Convertir de KM a Millas\n",
    "print(dis*0.61) #milla"
   ]
  }
 ],
 "metadata": {
  "interpreter": {
   "hash": "347252dfcdeddcf897f98b7aaa5f0a716a6441f210ee2e6db88d6863860a5910"
  },
  "kernelspec": {
   "display_name": "Python 3.10.2 64-bit",
   "language": "python",
   "name": "python3"
  },
  "language_info": {
   "codemirror_mode": {
    "name": "ipython",
    "version": 3
   },
   "file_extension": ".py",
   "mimetype": "text/x-python",
   "name": "python",
   "nbconvert_exporter": "python",
   "pygments_lexer": "ipython3",
   "version": "3.10.2"
  },
  "orig_nbformat": 4
 },
 "nbformat": 4,
 "nbformat_minor": 2
}
