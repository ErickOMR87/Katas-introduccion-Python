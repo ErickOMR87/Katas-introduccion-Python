{
 "cells": [
  {
   "cell_type": "code",
   "execution_count": null,
   "metadata": {},
   "outputs": [],
   "source": [
    "%pip install matplotlib\n",
    "%pip install numpy\n",
    "\n",
    "import numpy as np\n",
    "\n",
    " "
   ]
  },
  {
   "cell_type": "code",
   "execution_count": null,
   "metadata": {},
   "outputs": [],
   "source": [
    "%pip install statistics"
   ]
  },
  {
   "cell_type": "code",
   "execution_count": null,
   "metadata": {},
   "outputs": [],
   "source": [
    " \n",
    "inicio= ''\n",
    "tanques = []\n",
    "\n",
    "while inicio.lower() != 'salir':\n",
    "    tanques.append(inicio)\n",
    "    inicio= input(\"Ingresar valor o introduzca salir finalizar:\")\n",
    "    \n",
    "tanquesValores = tanques [1:]\n",
    "print(tanquesValores)\n"
   ]
  },
  {
   "cell_type": "code",
   "execution_count": null,
   "metadata": {},
   "outputs": [],
   "source": [
    "tanquesValoresFloat = []\n",
    "for item in tanquesValores:\n",
    "    tanquesValoresFloat.append(float(item))\n",
    "    \n",
    "print(tanquesValoresFloat)"
   ]
  },
  {
   "cell_type": "code",
   "execution_count": null,
   "metadata": {},
   "outputs": [],
   "source": [
    "def promedio (t):\n",
    "    return sum(t)/len(t)\n",
    "\n",
    "promedio(tanquesValoresFloat)  "
   ]
  },
  {
   "cell_type": "code",
   "execution_count": null,
   "metadata": {},
   "outputs": [],
   "source": [
    "def listaTanques (t):\n",
    "    for i, scan in enumerate(t):\n",
    "        print(f\"Tanque {i}: {scan} Lts\")\n",
    "\n",
    "listaTanques(tanquesValoresFloat)        \n",
    "\n"
   ]
  },
  {
   "cell_type": "code",
   "execution_count": 96,
   "metadata": {},
   "outputs": [
    {
     "name": "stdout",
     "output_type": "stream",
     "text": [
      "Tanque 0: 50.0 Lts\n",
      "Tanque 1: 60.0 Lts\n",
      "Tanque 2: 23.0 Lts\n",
      "Lanzamiento con destino a: Tierra\n",
      "Tiempo total de viaje: 105 minutos\n",
      "Combustible restante: 133.0 Lts\n",
      "Promedio de combustible por tanque: 44.333333333333336 Lts/ Tanque\n",
      "\n",
      "None\n"
     ]
    }
   ],
   "source": [
    "#Captura información: tanques, tiempos y destino\n",
    "tiempoPreLanzamiento= int(input('ingresar tiempo de prelanzaiento'))\n",
    "tiempoDeVuelo = int(input('Introducir tiempo de vuelo'))\n",
    "destino = input('Introducir destino')\n",
    "inicio= ''\n",
    "tanques = []\n",
    "\n",
    "while inicio.lower() != 'salir':\n",
    "    tanques.append(inicio)\n",
    "    inicio= input(\"Ingresar valor o introduzca salir finalizar:\")\n",
    "    \n",
    "tanquesValores = tanques [1:]\n",
    "\n",
    "#Transformacion de la lista str a floating\n",
    "tanquesValoresFloat = []\n",
    "for item in tanquesValores:\n",
    "    tanquesValoresFloat.append(float(item))\n",
    "\n",
    "#Funcion promedio\n",
    "def promedio (t):\n",
    "    return sum(t)/len(t)\n",
    "# Funcion para lista de tanques\n",
    "def listaTanques (t):\n",
    "    for i, scan in enumerate(t):\n",
    "        print(f\"Tanque {i}: {scan} Lts\")\n",
    "# Reporte    \n",
    "\n",
    "def reporteMision(dest, *arg):\n",
    "    listaTanques(tanquesValoresFloat)\n",
    "    print(f\"\"\"Lanzamiento con destino a: {dest}\n",
    "Tiempo total de viaje: {sum(arg)} minutos\n",
    "Combustible restante: {sum(tanquesValoresFloat)} Lts\n",
    "Promedio de combustible por tanque: {promedio(tanquesValoresFloat)} Lts/ Tanque\n",
    "\"\"\")\n",
    "    \n",
    "    \n",
    "print(reporteMision(destino,tiempoPreLanzamiento, tiempoDeVuelo))"
   ]
  }
 ],
 "metadata": {
  "interpreter": {
   "hash": "347252dfcdeddcf897f98b7aaa5f0a716a6441f210ee2e6db88d6863860a5910"
  },
  "kernelspec": {
   "display_name": "Python 3.10.2 64-bit",
   "language": "python",
   "name": "python3"
  },
  "language_info": {
   "codemirror_mode": {
    "name": "ipython",
    "version": 3
   },
   "file_extension": ".py",
   "mimetype": "text/x-python",
   "name": "python",
   "nbconvert_exporter": "python",
   "pygments_lexer": "ipython3",
   "version": "3.10.2"
  },
  "orig_nbformat": 4
 },
 "nbformat": 4,
 "nbformat_minor": 2
}
